{
 "cells": [
  {
   "cell_type": "code",
   "execution_count": 184,
   "metadata": {},
   "outputs": [],
   "source": [
    "import os\n",
    "import glob\n",
    "import pandas as pd\n",
    "import numpy as np \n",
    "import datetime \n",
    "import requests\n",
    "import re\n",
    "import glob\n",
    "import matplotlib.pyplot as plt\n",
    "%matplotlib inline "
   ]
  },
  {
   "cell_type": "code",
   "execution_count": 185,
   "metadata": {},
   "outputs": [],
   "source": [
    "oxford = pd.read_csv('normalised_oxford.csv')\n",
    "oxford_df = pd.DataFrame(oxford)"
   ]
  },
  {
   "cell_type": "code",
   "execution_count": 186,
   "metadata": {},
   "outputs": [],
   "source": [
    "spotify = pd.read_csv('normalised_spotify.csv')\n",
    "spotify_df = pd.DataFrame(spotify)"
   ]
  },
  {
   "cell_type": "code",
   "execution_count": 187,
   "metadata": {},
   "outputs": [],
   "source": [
    "ox_spot = pd.merge(oxford_df, spotify_df, on=['CountryName', 'Year_Month'])"
   ]
  },
  {
   "cell_type": "code",
   "execution_count": 188,
   "metadata": {},
   "outputs": [],
   "source": [
    "ox_spot.drop('Unnamed: 0_x',axis='columns', inplace=True)\n",
    "ox_spot.drop('Unnamed: 0_y',axis='columns', inplace=True)"
   ]
  },
  {
   "cell_type": "code",
   "execution_count": 189,
   "metadata": {},
   "outputs": [
    {
     "data": {
      "text/html": [
       "<div>\n",
       "<style scoped>\n",
       "    .dataframe tbody tr th:only-of-type {\n",
       "        vertical-align: middle;\n",
       "    }\n",
       "\n",
       "    .dataframe tbody tr th {\n",
       "        vertical-align: top;\n",
       "    }\n",
       "\n",
       "    .dataframe thead th {\n",
       "        text-align: right;\n",
       "    }\n",
       "</style>\n",
       "<table border=\"1\" class=\"dataframe\">\n",
       "  <thead>\n",
       "    <tr style=\"text-align: right;\">\n",
       "      <th></th>\n",
       "      <th>CountryName</th>\n",
       "      <th>Year_Month</th>\n",
       "      <th>PolicyValue</th>\n",
       "      <th>Happy Index</th>\n",
       "    </tr>\n",
       "  </thead>\n",
       "  <tbody>\n",
       "    <tr>\n",
       "      <th>0</th>\n",
       "      <td>Brazil</td>\n",
       "      <td>2020-02</td>\n",
       "      <td>0.000000</td>\n",
       "      <td>0.302712</td>\n",
       "    </tr>\n",
       "    <tr>\n",
       "      <th>1</th>\n",
       "      <td>Brazil</td>\n",
       "      <td>2020-03</td>\n",
       "      <td>1.000000</td>\n",
       "      <td>0.357956</td>\n",
       "    </tr>\n",
       "    <tr>\n",
       "      <th>2</th>\n",
       "      <td>Brazil</td>\n",
       "      <td>2020-04</td>\n",
       "      <td>1.000000</td>\n",
       "      <td>0.373075</td>\n",
       "    </tr>\n",
       "    <tr>\n",
       "      <th>3</th>\n",
       "      <td>Brazil</td>\n",
       "      <td>2020-05</td>\n",
       "      <td>1.838710</td>\n",
       "      <td>0.362001</td>\n",
       "    </tr>\n",
       "    <tr>\n",
       "      <th>4</th>\n",
       "      <td>Brazil</td>\n",
       "      <td>2020-06</td>\n",
       "      <td>2.000000</td>\n",
       "      <td>0.362001</td>\n",
       "    </tr>\n",
       "    <tr>\n",
       "      <th>5</th>\n",
       "      <td>Brazil</td>\n",
       "      <td>2020-07</td>\n",
       "      <td>2.000000</td>\n",
       "      <td>0.213834</td>\n",
       "    </tr>\n",
       "    <tr>\n",
       "      <th>6</th>\n",
       "      <td>Brazil</td>\n",
       "      <td>2020-08</td>\n",
       "      <td>2.225806</td>\n",
       "      <td>0.283967</td>\n",
       "    </tr>\n",
       "    <tr>\n",
       "      <th>7</th>\n",
       "      <td>Brazil</td>\n",
       "      <td>2020-09</td>\n",
       "      <td>0.000000</td>\n",
       "      <td>0.339447</td>\n",
       "    </tr>\n",
       "    <tr>\n",
       "      <th>8</th>\n",
       "      <td>Italy</td>\n",
       "      <td>2020-02</td>\n",
       "      <td>0.413793</td>\n",
       "      <td>0.302712</td>\n",
       "    </tr>\n",
       "    <tr>\n",
       "      <th>9</th>\n",
       "      <td>Italy</td>\n",
       "      <td>2020-03</td>\n",
       "      <td>2.225806</td>\n",
       "      <td>0.357956</td>\n",
       "    </tr>\n",
       "    <tr>\n",
       "      <th>10</th>\n",
       "      <td>Italy</td>\n",
       "      <td>2020-04</td>\n",
       "      <td>2.300000</td>\n",
       "      <td>0.373075</td>\n",
       "    </tr>\n",
       "    <tr>\n",
       "      <th>11</th>\n",
       "      <td>Italy</td>\n",
       "      <td>2020-05</td>\n",
       "      <td>2.000000</td>\n",
       "      <td>0.362001</td>\n",
       "    </tr>\n",
       "    <tr>\n",
       "      <th>12</th>\n",
       "      <td>Italy</td>\n",
       "      <td>2020-06</td>\n",
       "      <td>0.866667</td>\n",
       "      <td>0.362001</td>\n",
       "    </tr>\n",
       "    <tr>\n",
       "      <th>13</th>\n",
       "      <td>Italy</td>\n",
       "      <td>2020-07</td>\n",
       "      <td>0.000000</td>\n",
       "      <td>0.213834</td>\n",
       "    </tr>\n",
       "    <tr>\n",
       "      <th>14</th>\n",
       "      <td>Italy</td>\n",
       "      <td>2020-08</td>\n",
       "      <td>0.000000</td>\n",
       "      <td>0.283967</td>\n",
       "    </tr>\n",
       "    <tr>\n",
       "      <th>15</th>\n",
       "      <td>Italy</td>\n",
       "      <td>2020-09</td>\n",
       "      <td>0.000000</td>\n",
       "      <td>0.339447</td>\n",
       "    </tr>\n",
       "    <tr>\n",
       "      <th>16</th>\n",
       "      <td>Singapore</td>\n",
       "      <td>2020-02</td>\n",
       "      <td>0.000000</td>\n",
       "      <td>0.324082</td>\n",
       "    </tr>\n",
       "    <tr>\n",
       "      <th>17</th>\n",
       "      <td>Singapore</td>\n",
       "      <td>2020-03</td>\n",
       "      <td>0.000000</td>\n",
       "      <td>0.494631</td>\n",
       "    </tr>\n",
       "    <tr>\n",
       "      <th>18</th>\n",
       "      <td>Singapore</td>\n",
       "      <td>2020-04</td>\n",
       "      <td>1.600000</td>\n",
       "      <td>0.362988</td>\n",
       "    </tr>\n",
       "    <tr>\n",
       "      <th>19</th>\n",
       "      <td>Singapore</td>\n",
       "      <td>2020-05</td>\n",
       "      <td>2.000000</td>\n",
       "      <td>0.282038</td>\n",
       "    </tr>\n",
       "    <tr>\n",
       "      <th>20</th>\n",
       "      <td>Singapore</td>\n",
       "      <td>2020-06</td>\n",
       "      <td>1.600000</td>\n",
       "      <td>0.428992</td>\n",
       "    </tr>\n",
       "    <tr>\n",
       "      <th>21</th>\n",
       "      <td>Singapore</td>\n",
       "      <td>2020-07</td>\n",
       "      <td>0.000000</td>\n",
       "      <td>0.280272</td>\n",
       "    </tr>\n",
       "    <tr>\n",
       "      <th>22</th>\n",
       "      <td>Singapore</td>\n",
       "      <td>2020-08</td>\n",
       "      <td>0.000000</td>\n",
       "      <td>0.228109</td>\n",
       "    </tr>\n",
       "    <tr>\n",
       "      <th>23</th>\n",
       "      <td>Singapore</td>\n",
       "      <td>2020-09</td>\n",
       "      <td>0.000000</td>\n",
       "      <td>0.257987</td>\n",
       "    </tr>\n",
       "    <tr>\n",
       "      <th>24</th>\n",
       "      <td>South Africa</td>\n",
       "      <td>2020-02</td>\n",
       "      <td>0.000000</td>\n",
       "      <td>0.302712</td>\n",
       "    </tr>\n",
       "    <tr>\n",
       "      <th>25</th>\n",
       "      <td>South Africa</td>\n",
       "      <td>2020-03</td>\n",
       "      <td>0.322581</td>\n",
       "      <td>0.357956</td>\n",
       "    </tr>\n",
       "    <tr>\n",
       "      <th>26</th>\n",
       "      <td>South Africa</td>\n",
       "      <td>2020-04</td>\n",
       "      <td>2.000000</td>\n",
       "      <td>0.373075</td>\n",
       "    </tr>\n",
       "    <tr>\n",
       "      <th>27</th>\n",
       "      <td>South Africa</td>\n",
       "      <td>2020-05</td>\n",
       "      <td>2.000000</td>\n",
       "      <td>0.362001</td>\n",
       "    </tr>\n",
       "    <tr>\n",
       "      <th>28</th>\n",
       "      <td>South Africa</td>\n",
       "      <td>2020-06</td>\n",
       "      <td>1.000000</td>\n",
       "      <td>0.362001</td>\n",
       "    </tr>\n",
       "    <tr>\n",
       "      <th>29</th>\n",
       "      <td>South Africa</td>\n",
       "      <td>2020-07</td>\n",
       "      <td>1.580645</td>\n",
       "      <td>0.213834</td>\n",
       "    </tr>\n",
       "    <tr>\n",
       "      <th>30</th>\n",
       "      <td>South Africa</td>\n",
       "      <td>2020-08</td>\n",
       "      <td>0.000000</td>\n",
       "      <td>0.283967</td>\n",
       "    </tr>\n",
       "    <tr>\n",
       "      <th>31</th>\n",
       "      <td>South Africa</td>\n",
       "      <td>2020-09</td>\n",
       "      <td>0.000000</td>\n",
       "      <td>0.339447</td>\n",
       "    </tr>\n",
       "    <tr>\n",
       "      <th>32</th>\n",
       "      <td>USA</td>\n",
       "      <td>2020-02</td>\n",
       "      <td>0.000000</td>\n",
       "      <td>0.290004</td>\n",
       "    </tr>\n",
       "    <tr>\n",
       "      <th>33</th>\n",
       "      <td>USA</td>\n",
       "      <td>2020-03</td>\n",
       "      <td>1.032258</td>\n",
       "      <td>0.317628</td>\n",
       "    </tr>\n",
       "    <tr>\n",
       "      <th>34</th>\n",
       "      <td>USA</td>\n",
       "      <td>2020-04</td>\n",
       "      <td>2.000000</td>\n",
       "      <td>0.373075</td>\n",
       "    </tr>\n",
       "    <tr>\n",
       "      <th>35</th>\n",
       "      <td>USA</td>\n",
       "      <td>2020-05</td>\n",
       "      <td>2.000000</td>\n",
       "      <td>0.244903</td>\n",
       "    </tr>\n",
       "    <tr>\n",
       "      <th>36</th>\n",
       "      <td>USA</td>\n",
       "      <td>2020-06</td>\n",
       "      <td>2.000000</td>\n",
       "      <td>0.237245</td>\n",
       "    </tr>\n",
       "    <tr>\n",
       "      <th>37</th>\n",
       "      <td>USA</td>\n",
       "      <td>2020-07</td>\n",
       "      <td>1.612903</td>\n",
       "      <td>0.236888</td>\n",
       "    </tr>\n",
       "    <tr>\n",
       "      <th>38</th>\n",
       "      <td>USA</td>\n",
       "      <td>2020-08</td>\n",
       "      <td>1.000000</td>\n",
       "      <td>0.249417</td>\n",
       "    </tr>\n",
       "    <tr>\n",
       "      <th>39</th>\n",
       "      <td>USA</td>\n",
       "      <td>2020-09</td>\n",
       "      <td>1.000000</td>\n",
       "      <td>0.287219</td>\n",
       "    </tr>\n",
       "  </tbody>\n",
       "</table>\n",
       "</div>"
      ],
      "text/plain": [
       "     CountryName Year_Month  PolicyValue  Happy Index\n",
       "0         Brazil    2020-02     0.000000     0.302712\n",
       "1         Brazil    2020-03     1.000000     0.357956\n",
       "2         Brazil    2020-04     1.000000     0.373075\n",
       "3         Brazil    2020-05     1.838710     0.362001\n",
       "4         Brazil    2020-06     2.000000     0.362001\n",
       "5         Brazil    2020-07     2.000000     0.213834\n",
       "6         Brazil    2020-08     2.225806     0.283967\n",
       "7         Brazil    2020-09     0.000000     0.339447\n",
       "8          Italy    2020-02     0.413793     0.302712\n",
       "9          Italy    2020-03     2.225806     0.357956\n",
       "10         Italy    2020-04     2.300000     0.373075\n",
       "11         Italy    2020-05     2.000000     0.362001\n",
       "12         Italy    2020-06     0.866667     0.362001\n",
       "13         Italy    2020-07     0.000000     0.213834\n",
       "14         Italy    2020-08     0.000000     0.283967\n",
       "15         Italy    2020-09     0.000000     0.339447\n",
       "16     Singapore    2020-02     0.000000     0.324082\n",
       "17     Singapore    2020-03     0.000000     0.494631\n",
       "18     Singapore    2020-04     1.600000     0.362988\n",
       "19     Singapore    2020-05     2.000000     0.282038\n",
       "20     Singapore    2020-06     1.600000     0.428992\n",
       "21     Singapore    2020-07     0.000000     0.280272\n",
       "22     Singapore    2020-08     0.000000     0.228109\n",
       "23     Singapore    2020-09     0.000000     0.257987\n",
       "24  South Africa    2020-02     0.000000     0.302712\n",
       "25  South Africa    2020-03     0.322581     0.357956\n",
       "26  South Africa    2020-04     2.000000     0.373075\n",
       "27  South Africa    2020-05     2.000000     0.362001\n",
       "28  South Africa    2020-06     1.000000     0.362001\n",
       "29  South Africa    2020-07     1.580645     0.213834\n",
       "30  South Africa    2020-08     0.000000     0.283967\n",
       "31  South Africa    2020-09     0.000000     0.339447\n",
       "32           USA    2020-02     0.000000     0.290004\n",
       "33           USA    2020-03     1.032258     0.317628\n",
       "34           USA    2020-04     2.000000     0.373075\n",
       "35           USA    2020-05     2.000000     0.244903\n",
       "36           USA    2020-06     2.000000     0.237245\n",
       "37           USA    2020-07     1.612903     0.236888\n",
       "38           USA    2020-08     1.000000     0.249417\n",
       "39           USA    2020-09     1.000000     0.287219"
      ]
     },
     "execution_count": 189,
     "metadata": {},
     "output_type": "execute_result"
    }
   ],
   "source": [
    "ox_spot"
   ]
  },
  {
   "cell_type": "code",
   "execution_count": 190,
   "metadata": {},
   "outputs": [
    {
     "data": {
      "text/html": [
       "<div>\n",
       "<style scoped>\n",
       "    .dataframe tbody tr th:only-of-type {\n",
       "        vertical-align: middle;\n",
       "    }\n",
       "\n",
       "    .dataframe tbody tr th {\n",
       "        vertical-align: top;\n",
       "    }\n",
       "\n",
       "    .dataframe thead th {\n",
       "        text-align: right;\n",
       "    }\n",
       "</style>\n",
       "<table border=\"1\" class=\"dataframe\">\n",
       "  <thead>\n",
       "    <tr style=\"text-align: right;\">\n",
       "      <th></th>\n",
       "      <th>CountryName</th>\n",
       "      <th>Year_Month</th>\n",
       "      <th>PolicyValue</th>\n",
       "      <th>Happy Index</th>\n",
       "    </tr>\n",
       "  </thead>\n",
       "  <tbody>\n",
       "    <tr>\n",
       "      <th>0</th>\n",
       "      <td>Brazil</td>\n",
       "      <td>2020-02</td>\n",
       "      <td>0.000000</td>\n",
       "      <td>0.302712</td>\n",
       "    </tr>\n",
       "    <tr>\n",
       "      <th>1</th>\n",
       "      <td>Brazil</td>\n",
       "      <td>2020-03</td>\n",
       "      <td>1.000000</td>\n",
       "      <td>0.357956</td>\n",
       "    </tr>\n",
       "    <tr>\n",
       "      <th>2</th>\n",
       "      <td>Brazil</td>\n",
       "      <td>2020-04</td>\n",
       "      <td>1.000000</td>\n",
       "      <td>0.373075</td>\n",
       "    </tr>\n",
       "    <tr>\n",
       "      <th>3</th>\n",
       "      <td>Brazil</td>\n",
       "      <td>2020-05</td>\n",
       "      <td>1.838710</td>\n",
       "      <td>0.362001</td>\n",
       "    </tr>\n",
       "    <tr>\n",
       "      <th>4</th>\n",
       "      <td>Brazil</td>\n",
       "      <td>2020-06</td>\n",
       "      <td>2.000000</td>\n",
       "      <td>0.362001</td>\n",
       "    </tr>\n",
       "    <tr>\n",
       "      <th>5</th>\n",
       "      <td>Brazil</td>\n",
       "      <td>2020-07</td>\n",
       "      <td>2.000000</td>\n",
       "      <td>0.213834</td>\n",
       "    </tr>\n",
       "    <tr>\n",
       "      <th>6</th>\n",
       "      <td>Brazil</td>\n",
       "      <td>2020-08</td>\n",
       "      <td>2.225806</td>\n",
       "      <td>0.283967</td>\n",
       "    </tr>\n",
       "    <tr>\n",
       "      <th>7</th>\n",
       "      <td>Brazil</td>\n",
       "      <td>2020-09</td>\n",
       "      <td>0.000000</td>\n",
       "      <td>0.339447</td>\n",
       "    </tr>\n",
       "  </tbody>\n",
       "</table>\n",
       "</div>"
      ],
      "text/plain": [
       "  CountryName Year_Month  PolicyValue  Happy Index\n",
       "0      Brazil    2020-02     0.000000     0.302712\n",
       "1      Brazil    2020-03     1.000000     0.357956\n",
       "2      Brazil    2020-04     1.000000     0.373075\n",
       "3      Brazil    2020-05     1.838710     0.362001\n",
       "4      Brazil    2020-06     2.000000     0.362001\n",
       "5      Brazil    2020-07     2.000000     0.213834\n",
       "6      Brazil    2020-08     2.225806     0.283967\n",
       "7      Brazil    2020-09     0.000000     0.339447"
      ]
     },
     "execution_count": 190,
     "metadata": {},
     "output_type": "execute_result"
    }
   ],
   "source": [
    "ox_spot_bra= ox_spot['CountryName'] == 'Brazil'\n",
    "brazil= ox_spot[ox_spot_bra]\n",
    "brazil\n"
   ]
  },
  {
   "cell_type": "code",
   "execution_count": 215,
   "metadata": {},
   "outputs": [
    {
     "name": "stderr",
     "output_type": "stream",
     "text": [
      "/Users/davidgonzalez/opt/anaconda3/envs/kitycat/lib/python3.8/site-packages/pandas/plotting/_matplotlib/core.py:1235: UserWarning: FixedFormatter should only be used together with FixedLocator\n",
      "  ax.set_xticklabels(xticklabels)\n"
     ]
    },
    {
     "data": {
      "text/plain": [
       "<Figure size 1440x720 with 0 Axes>"
      ]
     },
     "metadata": {},
     "output_type": "display_data"
    },
    {
     "data": {
      "image/png": "[encoded data removed]",
      "text/plain": [
       "<Figure size 432x288 with 1 Axes>"
      ]
     },
     "metadata": {
      "needs_background": "light"
     },
     "output_type": "display_data"
    }
   ],
   "source": [
    "plt.figure(figsize=(20,10))\n",
    "brazil.plot(x = 'Year_Month', y= ['Happy Index', 'PolicyValue'])#,linewidth=4)\n",
    "plt.xlabel('Year_Month')\n",
    "plt.legend()\n",
    "plt.title('Brazil Policy Value vs Spotify Index')\n",
    "plt.savefig('brazil.png')\n",
    "plt.show() \n"
   ]
  },
  {
   "cell_type": "code",
   "execution_count": 216,
   "metadata": {},
   "outputs": [
    {
     "name": "stdout",
     "output_type": "stream",
     "text": [
      "   CountryName Year_Month  PolicyValue  Happy Index\n",
      "8        Italy    2020-02     0.413793     0.302712\n",
      "9        Italy    2020-03     2.225806     0.357956\n",
      "10       Italy    2020-04     2.300000     0.373075\n",
      "11       Italy    2020-05     2.000000     0.362001\n",
      "12       Italy    2020-06     0.866667     0.362001\n",
      "13       Italy    2020-07     0.000000     0.213834\n",
      "14       Italy    2020-08     0.000000     0.283967\n",
      "15       Italy    2020-09     0.000000     0.339447\n"
     ]
    },
    {
     "name": "stderr",
     "output_type": "stream",
     "text": [
      "/Users/davidgonzalez/opt/anaconda3/envs/kitycat/lib/python3.8/site-packages/pandas/plotting/_matplotlib/core.py:1235: UserWarning: FixedFormatter should only be used together with FixedLocator\n",
      "  ax.set_xticklabels(xticklabels)\n"
     ]
    },
    {
     "data": {
      "text/plain": [
       "<Figure size 1440x720 with 0 Axes>"
      ]
     },
     "metadata": {},
     "output_type": "display_data"
    },
    {
     "data": {
      "image/png": "[encoded data removed]",
      "text/plain": [
       "<Figure size 432x288 with 1 Axes>"
      ]
     },
     "metadata": {
      "needs_background": "light"
     },
     "output_type": "display_data"
    }
   ],
   "source": [
    "ox_spot_it= ox_spot['CountryName'] == 'Italy'\n",
    "italy= ox_spot[ox_spot_it]\n",
    "print(italy)\n",
    "\n",
    "plt.figure(figsize=(20,10))\n",
    "italy.plot(x = 'Year_Month', y= ['Happy Index', 'PolicyValue'])#,linewidth=4)\n",
    "plt.xlabel('Year_Month')\n",
    "plt.legend()\n",
    "plt.title('Italy Policy Value vs Spotify Index')\n",
    "plt.savefig('italy.png')\n",
    "plt.show() "
   ]
  },
  {
   "cell_type": "code",
   "execution_count": 217,
   "metadata": {},
   "outputs": [
    {
     "name": "stderr",
     "output_type": "stream",
     "text": [
      "/Users/davidgonzalez/opt/anaconda3/envs/kitycat/lib/python3.8/site-packages/pandas/plotting/_matplotlib/core.py:1235: UserWarning: FixedFormatter should only be used together with FixedLocator\n",
      "  ax.set_xticklabels(xticklabels)\n"
     ]
    },
    {
     "data": {
      "text/plain": [
       "<Figure size 1440x720 with 0 Axes>"
      ]
     },
     "metadata": {},
     "output_type": "display_data"
    },
    {
     "data": {
      "image/png": "[encoded data removed]",
      "text/plain": [
       "<Figure size 432x288 with 1 Axes>"
      ]
     },
     "metadata": {
      "needs_background": "light"
     },
     "output_type": "display_data"
    }
   ],
   "source": [
    "ox_spot_sg= ox_spot['CountryName'] == 'Singapore'\n",
    "singapore= ox_spot[ox_spot_sg]\n",
    "\n",
    "plt.figure(figsize=(20,10))\n",
    "singapore.plot(x = 'Year_Month', y= ['Happy Index', 'PolicyValue'])#,linewidth=4)\n",
    "plt.xlabel('Year_Month')\n",
    "plt.legend()\n",
    "plt.title('Singapore Policy Value vs Spotify Index')\n",
    "plt.savefig('singapore.png')\n",
    "plt.show() "
   ]
  },
  {
   "cell_type": "code",
   "execution_count": 218,
   "metadata": {},
   "outputs": [
    {
     "name": "stderr",
     "output_type": "stream",
     "text": [
      "/Users/davidgonzalez/opt/anaconda3/envs/kitycat/lib/python3.8/site-packages/pandas/plotting/_matplotlib/core.py:1235: UserWarning: FixedFormatter should only be used together with FixedLocator\n",
      "  ax.set_xticklabels(xticklabels)\n"
     ]
    },
    {
     "data": {
      "text/plain": [
       "<Figure size 1440x720 with 0 Axes>"
      ]
     },
     "metadata": {},
     "output_type": "display_data"
    },
    {
     "data": {
      "image/png": "[encoded data removed]",
      "text/plain": [
       "<Figure size 432x288 with 1 Axes>"
      ]
     },
     "metadata": {
      "needs_background": "light"
     },
     "output_type": "display_data"
    }
   ],
   "source": [
    "ox_spot_sa= ox_spot['CountryName'] == 'South Africa'\n",
    "safa= ox_spot[ox_spot_sa]\n",
    "\n",
    "plt.figure(figsize=(20,10))\n",
    "safa.plot(x = 'Year_Month', y= ['Happy Index', 'PolicyValue'])#,linewidth=4)\n",
    "plt.xlabel('Year_Month')\n",
    "plt.legend()\n",
    "plt.title('South Africa Policy Value vs Spotify Index')\n",
    "plt.savefig('safa.png')\n",
    "plt.show() "
   ]
  },
  {
   "cell_type": "code",
   "execution_count": 219,
   "metadata": {},
   "outputs": [
    {
     "name": "stderr",
     "output_type": "stream",
     "text": [
      "/Users/davidgonzalez/opt/anaconda3/envs/kitycat/lib/python3.8/site-packages/pandas/plotting/_matplotlib/core.py:1235: UserWarning: FixedFormatter should only be used together with FixedLocator\n",
      "  ax.set_xticklabels(xticklabels)\n"
     ]
    },
    {
     "data": {
      "text/plain": [
       "<Figure size 1440x720 with 0 Axes>"
      ]
     },
     "metadata": {},
     "output_type": "display_data"
    },
    {
     "data": {
      "image/png": "[encoded data removed]",
      "text/plain": [
       "<Figure size 432x288 with 1 Axes>"
      ]
     },
     "metadata": {
      "needs_background": "light"
     },
     "output_type": "display_data"
    }
   ],
   "source": [
    "ox_spot_us= ox_spot['CountryName'] == 'USA'\n",
    "usa= ox_spot[ox_spot_us]\n",
    "\n",
    "plt.figure(figsize=(20,10))\n",
    "usa.plot(x = 'Year_Month', y= ['Happy Index', 'PolicyValue'])#,linewidth=4)\n",
    "plt.xlabel('Year_Month')\n",
    "plt.legend()\n",
    "plt.title('USA Policy Value vs Spotify Index')\n",
    "plt.savefig('usa.png')\n",
    "plt.show() "
   ]
  },
  {
   "cell_type": "code",
   "execution_count": 211,
   "metadata": {},
   "outputs": [
    {
     "name": "stdout",
     "output_type": "stream",
     "text": [
      "Please enter country: Brazil\n"
     ]
    },
    {
     "data": {
      "text/html": [
       "<div>\n",
       "<style scoped>\n",
       "    .dataframe tbody tr th:only-of-type {\n",
       "        vertical-align: middle;\n",
       "    }\n",
       "\n",
       "    .dataframe tbody tr th {\n",
       "        vertical-align: top;\n",
       "    }\n",
       "\n",
       "    .dataframe thead th {\n",
       "        text-align: right;\n",
       "    }\n",
       "</style>\n",
       "<table border=\"1\" class=\"dataframe\">\n",
       "  <thead>\n",
       "    <tr style=\"text-align: right;\">\n",
       "      <th></th>\n",
       "      <th>CountryName</th>\n",
       "      <th>Year_Month</th>\n",
       "      <th>PolicyValue</th>\n",
       "      <th>Happy Index</th>\n",
       "    </tr>\n",
       "  </thead>\n",
       "  <tbody>\n",
       "    <tr>\n",
       "      <th>0</th>\n",
       "      <td>Brazil</td>\n",
       "      <td>2020-02</td>\n",
       "      <td>0.000000</td>\n",
       "      <td>0.302712</td>\n",
       "    </tr>\n",
       "    <tr>\n",
       "      <th>1</th>\n",
       "      <td>Brazil</td>\n",
       "      <td>2020-03</td>\n",
       "      <td>1.000000</td>\n",
       "      <td>0.357956</td>\n",
       "    </tr>\n",
       "    <tr>\n",
       "      <th>2</th>\n",
       "      <td>Brazil</td>\n",
       "      <td>2020-04</td>\n",
       "      <td>1.000000</td>\n",
       "      <td>0.373075</td>\n",
       "    </tr>\n",
       "    <tr>\n",
       "      <th>3</th>\n",
       "      <td>Brazil</td>\n",
       "      <td>2020-05</td>\n",
       "      <td>1.838710</td>\n",
       "      <td>0.362001</td>\n",
       "    </tr>\n",
       "    <tr>\n",
       "      <th>4</th>\n",
       "      <td>Brazil</td>\n",
       "      <td>2020-06</td>\n",
       "      <td>2.000000</td>\n",
       "      <td>0.362001</td>\n",
       "    </tr>\n",
       "    <tr>\n",
       "      <th>5</th>\n",
       "      <td>Brazil</td>\n",
       "      <td>2020-07</td>\n",
       "      <td>2.000000</td>\n",
       "      <td>0.213834</td>\n",
       "    </tr>\n",
       "    <tr>\n",
       "      <th>6</th>\n",
       "      <td>Brazil</td>\n",
       "      <td>2020-08</td>\n",
       "      <td>2.225806</td>\n",
       "      <td>0.283967</td>\n",
       "    </tr>\n",
       "    <tr>\n",
       "      <th>7</th>\n",
       "      <td>Brazil</td>\n",
       "      <td>2020-09</td>\n",
       "      <td>0.000000</td>\n",
       "      <td>0.339447</td>\n",
       "    </tr>\n",
       "  </tbody>\n",
       "</table>\n",
       "</div>"
      ],
      "text/plain": [
       "  CountryName Year_Month  PolicyValue  Happy Index\n",
       "0      Brazil    2020-02     0.000000     0.302712\n",
       "1      Brazil    2020-03     1.000000     0.357956\n",
       "2      Brazil    2020-04     1.000000     0.373075\n",
       "3      Brazil    2020-05     1.838710     0.362001\n",
       "4      Brazil    2020-06     2.000000     0.362001\n",
       "5      Brazil    2020-07     2.000000     0.213834\n",
       "6      Brazil    2020-08     2.225806     0.283967\n",
       "7      Brazil    2020-09     0.000000     0.339447"
      ]
     },
     "execution_count": 211,
     "metadata": {},
     "output_type": "execute_result"
    }
   ],
   "source": [
    "def meh():\n",
    "    string_raw = input('Please enter country: ')\n",
    "    string = str(string_raw)\n",
    "    \n",
    "    if string == 'Italy':\n",
    "        st = italy \n",
    "    elif string == 'Brazil':\n",
    "        st = brazil\n",
    "    elif string == 'Singapore':\n",
    "        st = singapore\n",
    "    elif string == 'South Africa':\n",
    "        st = safa\n",
    "    elif string == 'USA':\n",
    "        st = usa\n",
    "    else: \n",
    "        st = 'Not found, use capital letter in the beginning'\n",
    "    return st\n",
    "\n",
    "meh()\n"
   ]
  },
  {
   "cell_type": "code",
   "execution_count": null,
   "metadata": {},
   "outputs": [],
   "source": []
  }
 ],
 "metadata": {
  "kernelspec": {
   "display_name": "Python 3",
   "language": "python",
   "name": "python3"
  },
  "language_info": {
   "codemirror_mode": {
    "name": "ipython",
    "version": 3
   },
   "file_extension": ".py",
   "mimetype": "text/x-python",
   "name": "python",
   "nbconvert_exporter": "python",
   "pygments_lexer": "ipython3",
   "version": "3.8.5"
  }
 },
 "nbformat": 4,
 "nbformat_minor": 4
}
